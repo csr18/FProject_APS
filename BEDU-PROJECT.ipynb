{
 "cells": [
  {
   "cell_type": "markdown",
   "id": "5d7f1a41",
   "metadata": {},
   "source": [
    "# Proyecto BEDU: Airline Passenger Satisfaction\n",
    "\n",
    "## Objetivos: \n",
    "* Analizar la calidad de servicio de una aereolinea.\n",
    "* Predecir la satisfaccion de los clientes"
   ]
  },
  {
   "cell_type": "code",
   "execution_count": 1,
   "id": "c4ccbfe2",
   "metadata": {},
   "outputs": [],
   "source": [
    "import pandas as pd\n",
    "import matplotlib.pyplot as plt\n",
    "import seaborn as sns\n",
    "import numpy as np"
   ]
  },
  {
   "cell_type": "markdown",
   "id": "fc8fe346",
   "metadata": {},
   "source": [
    "### Informacion General de Nuestro DataSet"
   ]
  },
  {
   "cell_type": "code",
   "execution_count": 2,
   "id": "2871a1ba",
   "metadata": {},
   "outputs": [
    {
     "data": {
      "text/html": [
       "<div>\n",
       "<style scoped>\n",
       "    .dataframe tbody tr th:only-of-type {\n",
       "        vertical-align: middle;\n",
       "    }\n",
       "\n",
       "    .dataframe tbody tr th {\n",
       "        vertical-align: top;\n",
       "    }\n",
       "\n",
       "    .dataframe thead th {\n",
       "        text-align: right;\n",
       "    }\n",
       "</style>\n",
       "<table border=\"1\" class=\"dataframe\">\n",
       "  <thead>\n",
       "    <tr style=\"text-align: right;\">\n",
       "      <th></th>\n",
       "      <th>Gender</th>\n",
       "      <th>customer_type</th>\n",
       "      <th>age</th>\n",
       "      <th>type_of_travel</th>\n",
       "      <th>customer_class</th>\n",
       "      <th>flight_distance</th>\n",
       "      <th>inflight_wifi_service</th>\n",
       "      <th>departure_arrival_time_convenient</th>\n",
       "      <th>ease_of_online_booking</th>\n",
       "      <th>gate_location</th>\n",
       "      <th>...</th>\n",
       "      <th>inflight_entertainment</th>\n",
       "      <th>onboard_service</th>\n",
       "      <th>leg_room_service</th>\n",
       "      <th>baggage_handling</th>\n",
       "      <th>checkin_service</th>\n",
       "      <th>inflight_service</th>\n",
       "      <th>cleanliness</th>\n",
       "      <th>departure_delay_in_minutes</th>\n",
       "      <th>arrival_delay_in_minutes</th>\n",
       "      <th>satisfaction</th>\n",
       "    </tr>\n",
       "  </thead>\n",
       "  <tbody>\n",
       "    <tr>\n",
       "      <th>0</th>\n",
       "      <td>Male</td>\n",
       "      <td>Loyal Customer</td>\n",
       "      <td>13</td>\n",
       "      <td>Personal Travel</td>\n",
       "      <td>Eco Plus</td>\n",
       "      <td>460</td>\n",
       "      <td>3</td>\n",
       "      <td>4</td>\n",
       "      <td>3</td>\n",
       "      <td>1</td>\n",
       "      <td>...</td>\n",
       "      <td>5</td>\n",
       "      <td>4</td>\n",
       "      <td>3</td>\n",
       "      <td>4</td>\n",
       "      <td>4</td>\n",
       "      <td>5</td>\n",
       "      <td>5</td>\n",
       "      <td>25</td>\n",
       "      <td>18.0</td>\n",
       "      <td>neutral or dissatisfied</td>\n",
       "    </tr>\n",
       "    <tr>\n",
       "      <th>1</th>\n",
       "      <td>Male</td>\n",
       "      <td>disloyal Customer</td>\n",
       "      <td>25</td>\n",
       "      <td>Business travel</td>\n",
       "      <td>Business</td>\n",
       "      <td>235</td>\n",
       "      <td>3</td>\n",
       "      <td>2</td>\n",
       "      <td>3</td>\n",
       "      <td>3</td>\n",
       "      <td>...</td>\n",
       "      <td>1</td>\n",
       "      <td>1</td>\n",
       "      <td>5</td>\n",
       "      <td>3</td>\n",
       "      <td>1</td>\n",
       "      <td>4</td>\n",
       "      <td>1</td>\n",
       "      <td>1</td>\n",
       "      <td>6.0</td>\n",
       "      <td>neutral or dissatisfied</td>\n",
       "    </tr>\n",
       "    <tr>\n",
       "      <th>2</th>\n",
       "      <td>Female</td>\n",
       "      <td>Loyal Customer</td>\n",
       "      <td>26</td>\n",
       "      <td>Business travel</td>\n",
       "      <td>Business</td>\n",
       "      <td>1142</td>\n",
       "      <td>2</td>\n",
       "      <td>2</td>\n",
       "      <td>2</td>\n",
       "      <td>2</td>\n",
       "      <td>...</td>\n",
       "      <td>5</td>\n",
       "      <td>4</td>\n",
       "      <td>3</td>\n",
       "      <td>4</td>\n",
       "      <td>4</td>\n",
       "      <td>4</td>\n",
       "      <td>5</td>\n",
       "      <td>0</td>\n",
       "      <td>0.0</td>\n",
       "      <td>satisfied</td>\n",
       "    </tr>\n",
       "    <tr>\n",
       "      <th>3</th>\n",
       "      <td>Female</td>\n",
       "      <td>Loyal Customer</td>\n",
       "      <td>25</td>\n",
       "      <td>Business travel</td>\n",
       "      <td>Business</td>\n",
       "      <td>562</td>\n",
       "      <td>2</td>\n",
       "      <td>5</td>\n",
       "      <td>5</td>\n",
       "      <td>5</td>\n",
       "      <td>...</td>\n",
       "      <td>2</td>\n",
       "      <td>2</td>\n",
       "      <td>5</td>\n",
       "      <td>3</td>\n",
       "      <td>1</td>\n",
       "      <td>4</td>\n",
       "      <td>2</td>\n",
       "      <td>11</td>\n",
       "      <td>9.0</td>\n",
       "      <td>neutral or dissatisfied</td>\n",
       "    </tr>\n",
       "    <tr>\n",
       "      <th>4</th>\n",
       "      <td>Male</td>\n",
       "      <td>Loyal Customer</td>\n",
       "      <td>61</td>\n",
       "      <td>Business travel</td>\n",
       "      <td>Business</td>\n",
       "      <td>214</td>\n",
       "      <td>3</td>\n",
       "      <td>3</td>\n",
       "      <td>3</td>\n",
       "      <td>3</td>\n",
       "      <td>...</td>\n",
       "      <td>3</td>\n",
       "      <td>3</td>\n",
       "      <td>4</td>\n",
       "      <td>4</td>\n",
       "      <td>3</td>\n",
       "      <td>3</td>\n",
       "      <td>3</td>\n",
       "      <td>0</td>\n",
       "      <td>0.0</td>\n",
       "      <td>satisfied</td>\n",
       "    </tr>\n",
       "  </tbody>\n",
       "</table>\n",
       "<p>5 rows × 23 columns</p>\n",
       "</div>"
      ],
      "text/plain": [
       "   Gender      customer_type  age   type_of_travel customer_class  \\\n",
       "0    Male     Loyal Customer   13  Personal Travel       Eco Plus   \n",
       "1    Male  disloyal Customer   25  Business travel       Business   \n",
       "2  Female     Loyal Customer   26  Business travel       Business   \n",
       "3  Female     Loyal Customer   25  Business travel       Business   \n",
       "4    Male     Loyal Customer   61  Business travel       Business   \n",
       "\n",
       "   flight_distance  inflight_wifi_service  departure_arrival_time_convenient  \\\n",
       "0              460                      3                                  4   \n",
       "1              235                      3                                  2   \n",
       "2             1142                      2                                  2   \n",
       "3              562                      2                                  5   \n",
       "4              214                      3                                  3   \n",
       "\n",
       "   ease_of_online_booking  gate_location  ...  inflight_entertainment  \\\n",
       "0                       3              1  ...                       5   \n",
       "1                       3              3  ...                       1   \n",
       "2                       2              2  ...                       5   \n",
       "3                       5              5  ...                       2   \n",
       "4                       3              3  ...                       3   \n",
       "\n",
       "   onboard_service  leg_room_service  baggage_handling  checkin_service  \\\n",
       "0                4                 3                 4                4   \n",
       "1                1                 5                 3                1   \n",
       "2                4                 3                 4                4   \n",
       "3                2                 5                 3                1   \n",
       "4                3                 4                 4                3   \n",
       "\n",
       "   inflight_service  cleanliness  departure_delay_in_minutes  \\\n",
       "0                 5            5                          25   \n",
       "1                 4            1                           1   \n",
       "2                 4            5                           0   \n",
       "3                 4            2                          11   \n",
       "4                 3            3                           0   \n",
       "\n",
       "   arrival_delay_in_minutes             satisfaction  \n",
       "0                      18.0  neutral or dissatisfied  \n",
       "1                       6.0  neutral or dissatisfied  \n",
       "2                       0.0                satisfied  \n",
       "3                       9.0  neutral or dissatisfied  \n",
       "4                       0.0                satisfied  \n",
       "\n",
       "[5 rows x 23 columns]"
      ]
     },
     "execution_count": 2,
     "metadata": {},
     "output_type": "execute_result"
    }
   ],
   "source": [
    "data = pd.read_csv(\"airline_passenger_satisfaction.csv\", index_col=0)\n",
    "\n",
    "data.head()"
   ]
  },
  {
   "cell_type": "code",
   "execution_count": 3,
   "id": "fe4aedb3",
   "metadata": {},
   "outputs": [
    {
     "name": "stdout",
     "output_type": "stream",
     "text": [
      "<class 'pandas.core.frame.DataFrame'>\n",
      "Int64Index: 129880 entries, 0 to 129879\n",
      "Data columns (total 23 columns):\n",
      " #   Column                             Non-Null Count   Dtype  \n",
      "---  ------                             --------------   -----  \n",
      " 0   Gender                             129880 non-null  object \n",
      " 1   customer_type                      129880 non-null  object \n",
      " 2   age                                129880 non-null  int64  \n",
      " 3   type_of_travel                     129880 non-null  object \n",
      " 4   customer_class                     129880 non-null  object \n",
      " 5   flight_distance                    129880 non-null  int64  \n",
      " 6   inflight_wifi_service              129880 non-null  int64  \n",
      " 7   departure_arrival_time_convenient  129880 non-null  int64  \n",
      " 8   ease_of_online_booking             129880 non-null  int64  \n",
      " 9   gate_location                      129880 non-null  int64  \n",
      " 10  food_and_drink                     129880 non-null  int64  \n",
      " 11  online_boarding                    129880 non-null  int64  \n",
      " 12  seat_comfort                       129880 non-null  int64  \n",
      " 13  inflight_entertainment             129880 non-null  int64  \n",
      " 14  onboard_service                    129880 non-null  int64  \n",
      " 15  leg_room_service                   129880 non-null  int64  \n",
      " 16  baggage_handling                   129880 non-null  int64  \n",
      " 17  checkin_service                    129880 non-null  int64  \n",
      " 18  inflight_service                   129880 non-null  int64  \n",
      " 19  cleanliness                        129880 non-null  int64  \n",
      " 20  departure_delay_in_minutes         129880 non-null  int64  \n",
      " 21  arrival_delay_in_minutes           129487 non-null  float64\n",
      " 22  satisfaction                       129880 non-null  object \n",
      "dtypes: float64(1), int64(17), object(5)\n",
      "memory usage: 23.8+ MB\n"
     ]
    }
   ],
   "source": [
    "data.info()"
   ]
  },
  {
   "cell_type": "code",
   "execution_count": 4,
   "id": "1a54dc06",
   "metadata": {},
   "outputs": [
    {
     "data": {
      "text/html": [
       "<div>\n",
       "<style scoped>\n",
       "    .dataframe tbody tr th:only-of-type {\n",
       "        vertical-align: middle;\n",
       "    }\n",
       "\n",
       "    .dataframe tbody tr th {\n",
       "        vertical-align: top;\n",
       "    }\n",
       "\n",
       "    .dataframe thead th {\n",
       "        text-align: right;\n",
       "    }\n",
       "</style>\n",
       "<table border=\"1\" class=\"dataframe\">\n",
       "  <thead>\n",
       "    <tr style=\"text-align: right;\">\n",
       "      <th></th>\n",
       "      <th>age</th>\n",
       "      <th>flight_distance</th>\n",
       "      <th>inflight_wifi_service</th>\n",
       "      <th>departure_arrival_time_convenient</th>\n",
       "      <th>ease_of_online_booking</th>\n",
       "      <th>gate_location</th>\n",
       "      <th>food_and_drink</th>\n",
       "      <th>online_boarding</th>\n",
       "      <th>seat_comfort</th>\n",
       "      <th>inflight_entertainment</th>\n",
       "      <th>onboard_service</th>\n",
       "      <th>leg_room_service</th>\n",
       "      <th>baggage_handling</th>\n",
       "      <th>checkin_service</th>\n",
       "      <th>inflight_service</th>\n",
       "      <th>cleanliness</th>\n",
       "      <th>departure_delay_in_minutes</th>\n",
       "      <th>arrival_delay_in_minutes</th>\n",
       "    </tr>\n",
       "  </thead>\n",
       "  <tbody>\n",
       "    <tr>\n",
       "      <th>count</th>\n",
       "      <td>129880.000000</td>\n",
       "      <td>129880.000000</td>\n",
       "      <td>129880.000000</td>\n",
       "      <td>129880.000000</td>\n",
       "      <td>129880.000000</td>\n",
       "      <td>129880.000000</td>\n",
       "      <td>129880.000000</td>\n",
       "      <td>129880.000000</td>\n",
       "      <td>129880.000000</td>\n",
       "      <td>129880.000000</td>\n",
       "      <td>129880.000000</td>\n",
       "      <td>129880.000000</td>\n",
       "      <td>129880.000000</td>\n",
       "      <td>129880.000000</td>\n",
       "      <td>129880.000000</td>\n",
       "      <td>129880.000000</td>\n",
       "      <td>129880.000000</td>\n",
       "      <td>129487.000000</td>\n",
       "    </tr>\n",
       "    <tr>\n",
       "      <th>mean</th>\n",
       "      <td>39.427957</td>\n",
       "      <td>1190.316392</td>\n",
       "      <td>2.728696</td>\n",
       "      <td>3.057599</td>\n",
       "      <td>2.756876</td>\n",
       "      <td>2.976925</td>\n",
       "      <td>3.204774</td>\n",
       "      <td>3.252633</td>\n",
       "      <td>3.441361</td>\n",
       "      <td>3.358077</td>\n",
       "      <td>3.383023</td>\n",
       "      <td>3.350878</td>\n",
       "      <td>3.632114</td>\n",
       "      <td>3.306267</td>\n",
       "      <td>3.642193</td>\n",
       "      <td>3.286326</td>\n",
       "      <td>14.713713</td>\n",
       "      <td>15.091129</td>\n",
       "    </tr>\n",
       "    <tr>\n",
       "      <th>std</th>\n",
       "      <td>15.119360</td>\n",
       "      <td>997.452477</td>\n",
       "      <td>1.329340</td>\n",
       "      <td>1.526741</td>\n",
       "      <td>1.401740</td>\n",
       "      <td>1.278520</td>\n",
       "      <td>1.329933</td>\n",
       "      <td>1.350719</td>\n",
       "      <td>1.319289</td>\n",
       "      <td>1.334049</td>\n",
       "      <td>1.287099</td>\n",
       "      <td>1.316252</td>\n",
       "      <td>1.180025</td>\n",
       "      <td>1.266185</td>\n",
       "      <td>1.176669</td>\n",
       "      <td>1.313682</td>\n",
       "      <td>38.071126</td>\n",
       "      <td>38.465650</td>\n",
       "    </tr>\n",
       "    <tr>\n",
       "      <th>min</th>\n",
       "      <td>7.000000</td>\n",
       "      <td>31.000000</td>\n",
       "      <td>0.000000</td>\n",
       "      <td>0.000000</td>\n",
       "      <td>0.000000</td>\n",
       "      <td>0.000000</td>\n",
       "      <td>0.000000</td>\n",
       "      <td>0.000000</td>\n",
       "      <td>0.000000</td>\n",
       "      <td>0.000000</td>\n",
       "      <td>0.000000</td>\n",
       "      <td>0.000000</td>\n",
       "      <td>1.000000</td>\n",
       "      <td>0.000000</td>\n",
       "      <td>0.000000</td>\n",
       "      <td>0.000000</td>\n",
       "      <td>0.000000</td>\n",
       "      <td>0.000000</td>\n",
       "    </tr>\n",
       "    <tr>\n",
       "      <th>25%</th>\n",
       "      <td>27.000000</td>\n",
       "      <td>414.000000</td>\n",
       "      <td>2.000000</td>\n",
       "      <td>2.000000</td>\n",
       "      <td>2.000000</td>\n",
       "      <td>2.000000</td>\n",
       "      <td>2.000000</td>\n",
       "      <td>2.000000</td>\n",
       "      <td>2.000000</td>\n",
       "      <td>2.000000</td>\n",
       "      <td>2.000000</td>\n",
       "      <td>2.000000</td>\n",
       "      <td>3.000000</td>\n",
       "      <td>3.000000</td>\n",
       "      <td>3.000000</td>\n",
       "      <td>2.000000</td>\n",
       "      <td>0.000000</td>\n",
       "      <td>0.000000</td>\n",
       "    </tr>\n",
       "    <tr>\n",
       "      <th>50%</th>\n",
       "      <td>40.000000</td>\n",
       "      <td>844.000000</td>\n",
       "      <td>3.000000</td>\n",
       "      <td>3.000000</td>\n",
       "      <td>3.000000</td>\n",
       "      <td>3.000000</td>\n",
       "      <td>3.000000</td>\n",
       "      <td>3.000000</td>\n",
       "      <td>4.000000</td>\n",
       "      <td>4.000000</td>\n",
       "      <td>4.000000</td>\n",
       "      <td>4.000000</td>\n",
       "      <td>4.000000</td>\n",
       "      <td>3.000000</td>\n",
       "      <td>4.000000</td>\n",
       "      <td>3.000000</td>\n",
       "      <td>0.000000</td>\n",
       "      <td>0.000000</td>\n",
       "    </tr>\n",
       "    <tr>\n",
       "      <th>75%</th>\n",
       "      <td>51.000000</td>\n",
       "      <td>1744.000000</td>\n",
       "      <td>4.000000</td>\n",
       "      <td>4.000000</td>\n",
       "      <td>4.000000</td>\n",
       "      <td>4.000000</td>\n",
       "      <td>4.000000</td>\n",
       "      <td>4.000000</td>\n",
       "      <td>5.000000</td>\n",
       "      <td>4.000000</td>\n",
       "      <td>4.000000</td>\n",
       "      <td>4.000000</td>\n",
       "      <td>5.000000</td>\n",
       "      <td>4.000000</td>\n",
       "      <td>5.000000</td>\n",
       "      <td>4.000000</td>\n",
       "      <td>12.000000</td>\n",
       "      <td>13.000000</td>\n",
       "    </tr>\n",
       "    <tr>\n",
       "      <th>max</th>\n",
       "      <td>85.000000</td>\n",
       "      <td>4983.000000</td>\n",
       "      <td>5.000000</td>\n",
       "      <td>5.000000</td>\n",
       "      <td>5.000000</td>\n",
       "      <td>5.000000</td>\n",
       "      <td>5.000000</td>\n",
       "      <td>5.000000</td>\n",
       "      <td>5.000000</td>\n",
       "      <td>5.000000</td>\n",
       "      <td>5.000000</td>\n",
       "      <td>5.000000</td>\n",
       "      <td>5.000000</td>\n",
       "      <td>5.000000</td>\n",
       "      <td>5.000000</td>\n",
       "      <td>5.000000</td>\n",
       "      <td>1592.000000</td>\n",
       "      <td>1584.000000</td>\n",
       "    </tr>\n",
       "  </tbody>\n",
       "</table>\n",
       "</div>"
      ],
      "text/plain": [
       "                 age  flight_distance  inflight_wifi_service  \\\n",
       "count  129880.000000    129880.000000          129880.000000   \n",
       "mean       39.427957      1190.316392               2.728696   \n",
       "std        15.119360       997.452477               1.329340   \n",
       "min         7.000000        31.000000               0.000000   \n",
       "25%        27.000000       414.000000               2.000000   \n",
       "50%        40.000000       844.000000               3.000000   \n",
       "75%        51.000000      1744.000000               4.000000   \n",
       "max        85.000000      4983.000000               5.000000   \n",
       "\n",
       "       departure_arrival_time_convenient  ease_of_online_booking  \\\n",
       "count                      129880.000000           129880.000000   \n",
       "mean                            3.057599                2.756876   \n",
       "std                             1.526741                1.401740   \n",
       "min                             0.000000                0.000000   \n",
       "25%                             2.000000                2.000000   \n",
       "50%                             3.000000                3.000000   \n",
       "75%                             4.000000                4.000000   \n",
       "max                             5.000000                5.000000   \n",
       "\n",
       "       gate_location  food_and_drink  online_boarding   seat_comfort  \\\n",
       "count  129880.000000   129880.000000    129880.000000  129880.000000   \n",
       "mean        2.976925        3.204774         3.252633       3.441361   \n",
       "std         1.278520        1.329933         1.350719       1.319289   \n",
       "min         0.000000        0.000000         0.000000       0.000000   \n",
       "25%         2.000000        2.000000         2.000000       2.000000   \n",
       "50%         3.000000        3.000000         3.000000       4.000000   \n",
       "75%         4.000000        4.000000         4.000000       5.000000   \n",
       "max         5.000000        5.000000         5.000000       5.000000   \n",
       "\n",
       "       inflight_entertainment  onboard_service  leg_room_service  \\\n",
       "count           129880.000000    129880.000000     129880.000000   \n",
       "mean                 3.358077         3.383023          3.350878   \n",
       "std                  1.334049         1.287099          1.316252   \n",
       "min                  0.000000         0.000000          0.000000   \n",
       "25%                  2.000000         2.000000          2.000000   \n",
       "50%                  4.000000         4.000000          4.000000   \n",
       "75%                  4.000000         4.000000          4.000000   \n",
       "max                  5.000000         5.000000          5.000000   \n",
       "\n",
       "       baggage_handling  checkin_service  inflight_service    cleanliness  \\\n",
       "count     129880.000000    129880.000000     129880.000000  129880.000000   \n",
       "mean           3.632114         3.306267          3.642193       3.286326   \n",
       "std            1.180025         1.266185          1.176669       1.313682   \n",
       "min            1.000000         0.000000          0.000000       0.000000   \n",
       "25%            3.000000         3.000000          3.000000       2.000000   \n",
       "50%            4.000000         3.000000          4.000000       3.000000   \n",
       "75%            5.000000         4.000000          5.000000       4.000000   \n",
       "max            5.000000         5.000000          5.000000       5.000000   \n",
       "\n",
       "       departure_delay_in_minutes  arrival_delay_in_minutes  \n",
       "count               129880.000000             129487.000000  \n",
       "mean                    14.713713                 15.091129  \n",
       "std                     38.071126                 38.465650  \n",
       "min                      0.000000                  0.000000  \n",
       "25%                      0.000000                  0.000000  \n",
       "50%                      0.000000                  0.000000  \n",
       "75%                     12.000000                 13.000000  \n",
       "max                   1592.000000               1584.000000  "
      ]
     },
     "execution_count": 4,
     "metadata": {},
     "output_type": "execute_result"
    }
   ],
   "source": [
    "data.describe()"
   ]
  },
  {
   "cell_type": "code",
   "execution_count": 5,
   "id": "2f51584b",
   "metadata": {},
   "outputs": [
    {
     "data": {
      "text/plain": [
       "Index(['Gender', 'customer_type', 'age', 'type_of_travel', 'customer_class',\n",
       "       'flight_distance', 'inflight_wifi_service',\n",
       "       'departure_arrival_time_convenient', 'ease_of_online_booking',\n",
       "       'gate_location', 'food_and_drink', 'online_boarding', 'seat_comfort',\n",
       "       'inflight_entertainment', 'onboard_service', 'leg_room_service',\n",
       "       'baggage_handling', 'checkin_service', 'inflight_service',\n",
       "       'cleanliness', 'departure_delay_in_minutes', 'arrival_delay_in_minutes',\n",
       "       'satisfaction'],\n",
       "      dtype='object')"
      ]
     },
     "execution_count": 5,
     "metadata": {},
     "output_type": "execute_result"
    }
   ],
   "source": [
    "data.columns"
   ]
  },
  {
   "cell_type": "code",
   "execution_count": 6,
   "id": "e156c06e",
   "metadata": {},
   "outputs": [
    {
     "data": {
      "text/plain": [
       "(129880, 23)"
      ]
     },
     "execution_count": 6,
     "metadata": {},
     "output_type": "execute_result"
    }
   ],
   "source": [
    "data.shape"
   ]
  },
  {
   "cell_type": "markdown",
   "id": "b82b6b7c",
   "metadata": {},
   "source": [
    "## Limpieza de Nuestros Datos"
   ]
  },
  {
   "cell_type": "markdown",
   "id": "c7d99860",
   "metadata": {},
   "source": [
    "### Casting"
   ]
  },
  {
   "cell_type": "code",
   "execution_count": 7,
   "id": "27ac00f3",
   "metadata": {},
   "outputs": [
    {
     "data": {
      "text/plain": [
       "Index(['Gender', 'customer_type', 'age', 'type_of_travel', 'customer_class',\n",
       "       'flight_distance', 'inflight_wifi_service',\n",
       "       'departure_arrival_time_convenient', 'ease_of_online_booking',\n",
       "       'gate_location', 'food_and_drink', 'online_boarding', 'seat_comfort',\n",
       "       'inflight_entertainment', 'onboard_service', 'leg_room_service',\n",
       "       'baggage_handling', 'checkin_service', 'inflight_service',\n",
       "       'cleanliness', 'departure_delay_in_minutes', 'arrival_delay_in_minutes',\n",
       "       'satisfaction'],\n",
       "      dtype='object')"
      ]
     },
     "execution_count": 7,
     "metadata": {},
     "output_type": "execute_result"
    }
   ],
   "source": [
    "data.columns"
   ]
  },
  {
   "cell_type": "code",
   "execution_count": 8,
   "id": "e8af4d88",
   "metadata": {},
   "outputs": [
    {
     "data": {
      "text/plain": [
       "Gender                                object\n",
       "customer_type                         object\n",
       "age                                    int64\n",
       "type_of_travel                        object\n",
       "customer_class                        object\n",
       "flight_distance                        int64\n",
       "inflight_wifi_service                  int64\n",
       "departure_arrival_time_convenient      int64\n",
       "ease_of_online_booking                 int64\n",
       "gate_location                          int64\n",
       "food_and_drink                         int64\n",
       "online_boarding                        int64\n",
       "seat_comfort                           int64\n",
       "inflight_entertainment                 int64\n",
       "onboard_service                        int64\n",
       "leg_room_service                       int64\n",
       "baggage_handling                       int64\n",
       "checkin_service                        int64\n",
       "inflight_service                       int64\n",
       "cleanliness                            int64\n",
       "departure_delay_in_minutes             int64\n",
       "arrival_delay_in_minutes             float64\n",
       "satisfaction                          object\n",
       "dtype: object"
      ]
     },
     "execution_count": 8,
     "metadata": {},
     "output_type": "execute_result"
    }
   ],
   "source": [
    "data.dtypes"
   ]
  },
  {
   "cell_type": "code",
   "execution_count": 9,
   "id": "8907d2f5",
   "metadata": {},
   "outputs": [
    {
     "data": {
      "text/plain": [
       "Gender                                string\n",
       "customer_type                         string\n",
       "age                                    int64\n",
       "type_of_travel                        string\n",
       "customer_class                        string\n",
       "flight_distance                        int64\n",
       "inflight_wifi_service                  int64\n",
       "departure_arrival_time_convenient      int64\n",
       "ease_of_online_booking                 int64\n",
       "gate_location                          int64\n",
       "food_and_drink                         int64\n",
       "online_boarding                        int64\n",
       "seat_comfort                           int64\n",
       "inflight_entertainment                 int64\n",
       "onboard_service                        int64\n",
       "leg_room_service                       int64\n",
       "baggage_handling                       int64\n",
       "checkin_service                        int64\n",
       "inflight_service                       int64\n",
       "cleanliness                            int64\n",
       "departure_delay_in_minutes             int64\n",
       "arrival_delay_in_minutes             float64\n",
       "satisfaction                          string\n",
       "dtype: object"
      ]
     },
     "execution_count": 9,
     "metadata": {},
     "output_type": "execute_result"
    }
   ],
   "source": [
    "new_data_types = {\n",
    "    'Gender': 'string',\n",
    "    'customer_type': 'string',\n",
    "    'type_of_travel': 'string',\n",
    "    'customer_class': 'string',\n",
    "    'satisfaction': 'string'\n",
    "}\n",
    "airline_satisfaction = data.astype(new_data_types)\n",
    "airline_satisfaction.dtypes"
   ]
  },
  {
   "cell_type": "markdown",
   "id": "9c55340a",
   "metadata": {},
   "source": [
    "### Valores NA"
   ]
  },
  {
   "cell_type": "code",
   "execution_count": 10,
   "id": "2eeb4b3d",
   "metadata": {},
   "outputs": [
    {
     "data": {
      "text/plain": [
       "Gender                               False\n",
       "customer_type                        False\n",
       "age                                  False\n",
       "type_of_travel                       False\n",
       "customer_class                       False\n",
       "flight_distance                      False\n",
       "inflight_wifi_service                False\n",
       "departure_arrival_time_convenient    False\n",
       "ease_of_online_booking               False\n",
       "gate_location                        False\n",
       "food_and_drink                       False\n",
       "online_boarding                      False\n",
       "seat_comfort                         False\n",
       "inflight_entertainment               False\n",
       "onboard_service                      False\n",
       "leg_room_service                     False\n",
       "baggage_handling                     False\n",
       "checkin_service                      False\n",
       "inflight_service                     False\n",
       "cleanliness                          False\n",
       "departure_delay_in_minutes           False\n",
       "arrival_delay_in_minutes              True\n",
       "satisfaction                         False\n",
       "dtype: bool"
      ]
     },
     "execution_count": 10,
     "metadata": {},
     "output_type": "execute_result"
    }
   ],
   "source": [
    "airline_satisfaction.isna().any()"
   ]
  },
  {
   "cell_type": "code",
   "execution_count": 11,
   "id": "5596680f",
   "metadata": {},
   "outputs": [
    {
     "data": {
      "text/plain": [
       "393"
      ]
     },
     "execution_count": 11,
     "metadata": {},
     "output_type": "execute_result"
    }
   ],
   "source": [
    "# Encontramos el total de NAs en la columan \"arrival_delay_in_minutes\"\n",
    "na_values = airline_satisfaction[\"arrival_delay_in_minutes\"].isna().sum()\n",
    "na_values"
   ]
  },
  {
   "cell_type": "code",
   "execution_count": 12,
   "id": "7770791c",
   "metadata": {},
   "outputs": [
    {
     "data": {
      "text/plain": [
       "15.09112883918849"
      ]
     },
     "execution_count": 12,
     "metadata": {},
     "output_type": "execute_result"
    }
   ],
   "source": [
    "# Create a new data frame and fill with cero\n",
    "prom = airline_satisfaction['arrival_delay_in_minutes'].mean()\n",
    "airline_satisfaction = airline_satisfaction.fillna(prom)\n",
    "prom"
   ]
  },
  {
   "cell_type": "code",
   "execution_count": 13,
   "id": "598b0fd1",
   "metadata": {},
   "outputs": [
    {
     "data": {
      "text/plain": [
       "Gender                               False\n",
       "customer_type                        False\n",
       "age                                  False\n",
       "type_of_travel                       False\n",
       "customer_class                       False\n",
       "flight_distance                      False\n",
       "inflight_wifi_service                False\n",
       "departure_arrival_time_convenient    False\n",
       "ease_of_online_booking               False\n",
       "gate_location                        False\n",
       "food_and_drink                       False\n",
       "online_boarding                      False\n",
       "seat_comfort                         False\n",
       "inflight_entertainment               False\n",
       "onboard_service                      False\n",
       "leg_room_service                     False\n",
       "baggage_handling                     False\n",
       "checkin_service                      False\n",
       "inflight_service                     False\n",
       "cleanliness                          False\n",
       "departure_delay_in_minutes           False\n",
       "arrival_delay_in_minutes             False\n",
       "satisfaction                         False\n",
       "dtype: bool"
      ]
     },
     "execution_count": 13,
     "metadata": {},
     "output_type": "execute_result"
    }
   ],
   "source": [
    "airline_satisfaction.isna().any()"
   ]
  },
  {
   "cell_type": "markdown",
   "id": "04219c47",
   "metadata": {},
   "source": [
    "### Convertir columna \"satisfaction\" en numerica"
   ]
  },
  {
   "cell_type": "code",
   "execution_count": 14,
   "id": "32667978",
   "metadata": {},
   "outputs": [
    {
     "data": {
      "text/plain": [
       "<StringArray>\n",
       "['neutral or dissatisfied', 'satisfied']\n",
       "Length: 2, dtype: string"
      ]
     },
     "execution_count": 14,
     "metadata": {},
     "output_type": "execute_result"
    }
   ],
   "source": [
    "airline_satisfaction.satisfaction.unique()"
   ]
  },
  {
   "cell_type": "code",
   "execution_count": 15,
   "id": "36bf9c41",
   "metadata": {},
   "outputs": [],
   "source": [
    "airline_satisfaction.satisfaction = [1 if v == 'neutral or dissatisfied' else 0 for v in airline_satisfaction.satisfaction]"
   ]
  },
  {
   "cell_type": "code",
   "execution_count": 16,
   "id": "0d8516ed",
   "metadata": {},
   "outputs": [
    {
     "data": {
      "text/plain": [
       "array([1, 0], dtype=int64)"
      ]
     },
     "execution_count": 16,
     "metadata": {},
     "output_type": "execute_result"
    }
   ],
   "source": [
    "airline_satisfaction.satisfaction.unique()"
   ]
  },
  {
   "cell_type": "code",
   "execution_count": 17,
   "id": "9fbfbf4e",
   "metadata": {},
   "outputs": [
    {
     "data": {
      "text/plain": [
       "0    1\n",
       "1    1\n",
       "2    0\n",
       "3    1\n",
       "4    0\n",
       "Name: satisfaction, dtype: int64"
      ]
     },
     "execution_count": 17,
     "metadata": {},
     "output_type": "execute_result"
    }
   ],
   "source": [
    "airline_satisfaction['satisfaction'].head()"
   ]
  },
  {
   "cell_type": "markdown",
   "id": "fbe0edbb",
   "metadata": {},
   "source": [
    "## Analisis de los Servicios"
   ]
  },
  {
   "cell_type": "code",
   "execution_count": 18,
   "id": "b101cd76",
   "metadata": {},
   "outputs": [
    {
     "data": {
      "text/plain": [
       "(['age',\n",
       "  'flight_distance',\n",
       "  'inflight_wifi_service',\n",
       "  'departure_arrival_time_convenient',\n",
       "  'ease_of_online_booking',\n",
       "  'gate_location',\n",
       "  'food_and_drink',\n",
       "  'online_boarding',\n",
       "  'seat_comfort',\n",
       "  'inflight_entertainment',\n",
       "  'onboard_service',\n",
       "  'leg_room_service',\n",
       "  'baggage_handling',\n",
       "  'checkin_service',\n",
       "  'inflight_service',\n",
       "  'cleanliness',\n",
       "  'departure_delay_in_minutes',\n",
       "  'arrival_delay_in_minutes'],\n",
       " ['Gender', 'customer_type', 'type_of_travel', 'customer_class'])"
      ]
     },
     "execution_count": 18,
     "metadata": {},
     "output_type": "execute_result"
    }
   ],
   "source": [
    "num_col = []\n",
    "cat_col = []\n",
    "\n",
    "for col in airline_satisfaction.columns:\n",
    "    \n",
    "    if col in ['satisfaction']:\n",
    "        continue\n",
    "    \n",
    "    if airline_satisfaction[col].dtype in ['int64', 'float64']:\n",
    "        num_col.append(col)\n",
    "    else: \n",
    "        cat_col.append(col)\n",
    "\n",
    "num_col, cat_col"
   ]
  },
  {
   "cell_type": "code",
   "execution_count": 19,
   "id": "42a7a6c5",
   "metadata": {},
   "outputs": [
    {
     "name": "stdout",
     "output_type": "stream",
     "text": [
      "Columnas Categoricas\n",
      "--------------------\n",
      "1\n",
      "Gender: <StringArray>\n",
      "['Male', 'Female']\n",
      "Length: 2, dtype: string - 2pcs\n",
      "2\n",
      "customer_type: <StringArray>\n",
      "['Loyal Customer', 'disloyal Customer']\n",
      "Length: 2, dtype: string - 2pcs\n",
      "3\n",
      "type_of_travel: <StringArray>\n",
      "['Personal Travel', 'Business travel']\n",
      "Length: 2, dtype: string - 2pcs\n",
      "4\n",
      "customer_class: <StringArray>\n",
      "['Eco Plus', 'Business', 'Eco']\n",
      "Length: 3, dtype: string - 3pcs\n"
     ]
    }
   ],
   "source": [
    "print('Columnas Categoricas')\n",
    "print('-'*20)\n",
    "i = 1\n",
    "for col in airline_satisfaction[cat_col]:\n",
    "    print(i)\n",
    "    print(f'{col}: {airline_satisfaction[col].unique()} - {len(airline_satisfaction[col].unique())}pcs')\n",
    "    i += 1"
   ]
  },
  {
   "cell_type": "code",
   "execution_count": 20,
   "id": "640a83e4",
   "metadata": {},
   "outputs": [
    {
     "name": "stdout",
     "output_type": "stream",
     "text": [
      "Columnas Numericas\n"
     ]
    },
    {
     "data": {
      "text/html": [
       "<div>\n",
       "<style scoped>\n",
       "    .dataframe tbody tr th:only-of-type {\n",
       "        vertical-align: middle;\n",
       "    }\n",
       "\n",
       "    .dataframe tbody tr th {\n",
       "        vertical-align: top;\n",
       "    }\n",
       "\n",
       "    .dataframe thead th {\n",
       "        text-align: right;\n",
       "    }\n",
       "</style>\n",
       "<table border=\"1\" class=\"dataframe\">\n",
       "  <thead>\n",
       "    <tr style=\"text-align: right;\">\n",
       "      <th></th>\n",
       "      <th>age</th>\n",
       "      <th>flight_distance</th>\n",
       "      <th>inflight_wifi_service</th>\n",
       "      <th>departure_arrival_time_convenient</th>\n",
       "      <th>ease_of_online_booking</th>\n",
       "      <th>gate_location</th>\n",
       "      <th>food_and_drink</th>\n",
       "      <th>online_boarding</th>\n",
       "      <th>seat_comfort</th>\n",
       "      <th>inflight_entertainment</th>\n",
       "      <th>onboard_service</th>\n",
       "      <th>leg_room_service</th>\n",
       "      <th>baggage_handling</th>\n",
       "      <th>checkin_service</th>\n",
       "      <th>inflight_service</th>\n",
       "      <th>cleanliness</th>\n",
       "      <th>departure_delay_in_minutes</th>\n",
       "      <th>arrival_delay_in_minutes</th>\n",
       "    </tr>\n",
       "  </thead>\n",
       "  <tbody>\n",
       "    <tr>\n",
       "      <th>0</th>\n",
       "      <td>13</td>\n",
       "      <td>460</td>\n",
       "      <td>3</td>\n",
       "      <td>4</td>\n",
       "      <td>3</td>\n",
       "      <td>1</td>\n",
       "      <td>5</td>\n",
       "      <td>3</td>\n",
       "      <td>5</td>\n",
       "      <td>5</td>\n",
       "      <td>4</td>\n",
       "      <td>3</td>\n",
       "      <td>4</td>\n",
       "      <td>4</td>\n",
       "      <td>5</td>\n",
       "      <td>5</td>\n",
       "      <td>25</td>\n",
       "      <td>18.0</td>\n",
       "    </tr>\n",
       "    <tr>\n",
       "      <th>1</th>\n",
       "      <td>25</td>\n",
       "      <td>235</td>\n",
       "      <td>3</td>\n",
       "      <td>2</td>\n",
       "      <td>3</td>\n",
       "      <td>3</td>\n",
       "      <td>1</td>\n",
       "      <td>3</td>\n",
       "      <td>1</td>\n",
       "      <td>1</td>\n",
       "      <td>1</td>\n",
       "      <td>5</td>\n",
       "      <td>3</td>\n",
       "      <td>1</td>\n",
       "      <td>4</td>\n",
       "      <td>1</td>\n",
       "      <td>1</td>\n",
       "      <td>6.0</td>\n",
       "    </tr>\n",
       "    <tr>\n",
       "      <th>2</th>\n",
       "      <td>26</td>\n",
       "      <td>1142</td>\n",
       "      <td>2</td>\n",
       "      <td>2</td>\n",
       "      <td>2</td>\n",
       "      <td>2</td>\n",
       "      <td>5</td>\n",
       "      <td>5</td>\n",
       "      <td>5</td>\n",
       "      <td>5</td>\n",
       "      <td>4</td>\n",
       "      <td>3</td>\n",
       "      <td>4</td>\n",
       "      <td>4</td>\n",
       "      <td>4</td>\n",
       "      <td>5</td>\n",
       "      <td>0</td>\n",
       "      <td>0.0</td>\n",
       "    </tr>\n",
       "    <tr>\n",
       "      <th>3</th>\n",
       "      <td>25</td>\n",
       "      <td>562</td>\n",
       "      <td>2</td>\n",
       "      <td>5</td>\n",
       "      <td>5</td>\n",
       "      <td>5</td>\n",
       "      <td>2</td>\n",
       "      <td>2</td>\n",
       "      <td>2</td>\n",
       "      <td>2</td>\n",
       "      <td>2</td>\n",
       "      <td>5</td>\n",
       "      <td>3</td>\n",
       "      <td>1</td>\n",
       "      <td>4</td>\n",
       "      <td>2</td>\n",
       "      <td>11</td>\n",
       "      <td>9.0</td>\n",
       "    </tr>\n",
       "    <tr>\n",
       "      <th>4</th>\n",
       "      <td>61</td>\n",
       "      <td>214</td>\n",
       "      <td>3</td>\n",
       "      <td>3</td>\n",
       "      <td>3</td>\n",
       "      <td>3</td>\n",
       "      <td>4</td>\n",
       "      <td>5</td>\n",
       "      <td>5</td>\n",
       "      <td>3</td>\n",
       "      <td>3</td>\n",
       "      <td>4</td>\n",
       "      <td>4</td>\n",
       "      <td>3</td>\n",
       "      <td>3</td>\n",
       "      <td>3</td>\n",
       "      <td>0</td>\n",
       "      <td>0.0</td>\n",
       "    </tr>\n",
       "  </tbody>\n",
       "</table>\n",
       "</div>"
      ],
      "text/plain": [
       "   age  flight_distance  inflight_wifi_service  \\\n",
       "0   13              460                      3   \n",
       "1   25              235                      3   \n",
       "2   26             1142                      2   \n",
       "3   25              562                      2   \n",
       "4   61              214                      3   \n",
       "\n",
       "   departure_arrival_time_convenient  ease_of_online_booking  gate_location  \\\n",
       "0                                  4                       3              1   \n",
       "1                                  2                       3              3   \n",
       "2                                  2                       2              2   \n",
       "3                                  5                       5              5   \n",
       "4                                  3                       3              3   \n",
       "\n",
       "   food_and_drink  online_boarding  seat_comfort  inflight_entertainment  \\\n",
       "0               5                3             5                       5   \n",
       "1               1                3             1                       1   \n",
       "2               5                5             5                       5   \n",
       "3               2                2             2                       2   \n",
       "4               4                5             5                       3   \n",
       "\n",
       "   onboard_service  leg_room_service  baggage_handling  checkin_service  \\\n",
       "0                4                 3                 4                4   \n",
       "1                1                 5                 3                1   \n",
       "2                4                 3                 4                4   \n",
       "3                2                 5                 3                1   \n",
       "4                3                 4                 4                3   \n",
       "\n",
       "   inflight_service  cleanliness  departure_delay_in_minutes  \\\n",
       "0                 5            5                          25   \n",
       "1                 4            1                           1   \n",
       "2                 4            5                           0   \n",
       "3                 4            2                          11   \n",
       "4                 3            3                           0   \n",
       "\n",
       "   arrival_delay_in_minutes  \n",
       "0                      18.0  \n",
       "1                       6.0  \n",
       "2                       0.0  \n",
       "3                       9.0  \n",
       "4                       0.0  "
      ]
     },
     "execution_count": 20,
     "metadata": {},
     "output_type": "execute_result"
    }
   ],
   "source": [
    "print('Columnas Numericas')\n",
    "\n",
    "#for col in airline_satisfaction[num_col]:\n",
    "    #print(f'{col}: {airline_satisfaction[col].unique()} - {len(airline_satisfaction[col].unique())}pcs')\n",
    "airline_satisfaction[num_col].head()"
   ]
  },
  {
   "cell_type": "code",
   "execution_count": 21,
   "id": "18c33371",
   "metadata": {},
   "outputs": [
    {
     "data": {
      "image/png": "[encoded data removed]",
      "text/plain": [
       "<Figure size 1440x936 with 4 Axes>"
      ]
     },
     "metadata": {},
     "output_type": "display_data"
    }
   ],
   "source": [
    "sns.set_theme(style=\"darkgrid\")\n",
    "plt.figure(figsize=(20, 13))\n",
    "\n",
    "#plt.subplot(2,4,1)\n",
    "#ax = sns.countplot(data = airline_satisfaction, x = 'Gender');\n",
    "#plt.subplot(2,4,3)\n",
    "#ax2 = sns.countplot(data = airline_satisfaction, x = 'customer_type');\n",
    "#plt.subplot(2,4,5)\n",
    "#ax2 = sns.countplot(data = airline_satisfaction, x = 'type_of_travel');\n",
    "#plt.subplot(2,4,7)\n",
    "#ax2 = sns.countplot(data = airline_satisfaction, x = 'customer_class');\n",
    "i = 1\n",
    "for col in airline_satisfaction[cat_col]:\n",
    "    plt.subplot(2,4,i)\n",
    "    ax = sns.countplot(data = airline_satisfaction, x = col);\n",
    "    i += 2"
   ]
  },
  {
   "cell_type": "code",
   "execution_count": 22,
   "id": "cd5b9cfd",
   "metadata": {},
   "outputs": [
    {
     "data": {
      "image/png": "[encoded data removed]",
      "text/plain": [
       "<Figure size 1440x936 with 4 Axes>"
      ]
     },
     "metadata": {},
     "output_type": "display_data"
    }
   ],
   "source": [
    "sns.set_theme(style=\"darkgrid\")\n",
    "plt.figure(figsize=(20, 13))\n",
    "\n",
    "#plt.subplot(2,4,1)\n",
    "#ax = sns.countplot(data = airline_satisfaction, x = 'Gender', hue='satisfaction');\n",
    "#plt.subplot(2,4,3)\n",
    "#ax2 = sns.countplot(data = airline_satisfaction, x = 'customer_type', hue='satisfaction');\n",
    "#plt.subplot(2,4,5)\n",
    "#ax2 = sns.countplot(data = airline_satisfaction, x = 'type_of_travel', hue='satisfaction');\n",
    "#plt.subplot(2,4,7)\n",
    "#ax2 = sns.countplot(data = airline_satisfaction, x = 'customer_class', hue='satisfaction');\n",
    "\n",
    "# 1 insatisfecho y 0 satisfecho\n",
    "\n",
    "i = 1\n",
    "for col in airline_satisfaction[cat_col]:\n",
    "    plt.subplot(2,4,i)\n",
    "    ax = sns.countplot(data = airline_satisfaction, x = col, hue='satisfaction');\n",
    "    i += 2"
   ]
  },
  {
   "cell_type": "markdown",
   "id": "38eafed6",
   "metadata": {},
   "source": [
    "### Observaciones de las categorias\n",
    "\n",
    "- Hay mas mujeres que hombres en los datos, y son las mujeres quienes estan mas insatisfechas de los servicios que los hombres.\n",
    "- Los pasajeros leales consideran buenos los servicos de la aereolinea a diferencia de aquellos pasajeros que no son leales.\n",
    "- Aquellos pasajeros que viajan por motivos personales quedan mas instisfechos de los servicios de la aerelinea que aquellos\n",
    "que van por un viaje de negocio\n",
    "- Tanto los pasajeros de la clase economica como de la clase economica plus son los mas insatisfechos de los servicios de la aereolina mientras que los que viajan en la clase negocios estan satisfechos de los servicios. "
   ]
  },
  {
   "cell_type": "code",
   "execution_count": 23,
   "id": "949c1b2b",
   "metadata": {},
   "outputs": [
    {
     "name": "stderr",
     "output_type": "stream",
     "text": [
      "C:\\Users\\CesarHz\\Documents\\my_JN_Projects\\env\\lib\\site-packages\\seaborn\\_decorators.py:36: FutureWarning: Pass the following variable as a keyword arg: x. From version 0.12, the only valid positional argument will be `data`, and passing other arguments without an explicit keyword will result in an error or misinterpretation.\n",
      "  warnings.warn(\n"
     ]
    },
    {
     "data": {
      "image/png": "[encoded data removed]",
      "text/plain": [
       "<Figure size 432x288 with 1 Axes>"
      ]
     },
     "metadata": {},
     "output_type": "display_data"
    }
   ],
   "source": [
    "# Resumen \n",
    "sns.countplot(airline_satisfaction.satisfaction)\n",
    "plt.title(\"General\");"
   ]
  },
  {
   "cell_type": "code",
   "execution_count": 24,
   "id": "cbc1bd2b",
   "metadata": {},
   "outputs": [
    {
     "data": {
      "image/png": "[encoded data removed]",
      "text/plain": [
       "<Figure size 1656x1296 with 18 Axes>"
      ]
     },
     "metadata": {},
     "output_type": "display_data"
    }
   ],
   "source": [
    "plt.figure(figsize=(23, 18))\n",
    "\n",
    "for i, col in enumerate(num_col):\n",
    "    if col != ['age','flight_distance','departure_delay_in_minutes','arrival_delay_in_minutes']:\n",
    "        plt.subplot(4, 5, i+1)\n",
    "        airline_satisfaction[col][airline_satisfaction.satisfaction == 0].hist(bins=20)\n",
    "        airline_satisfaction[col][airline_satisfaction.satisfaction == 1].hist(bins=20, alpha = 0.6)\n",
    "        plt.title(f'{col}')"
   ]
  },
  {
   "cell_type": "markdown",
   "id": "bc0a248f",
   "metadata": {},
   "source": [
    "### Observaciones de los servicios\n",
    "\n",
    "- Los pasajeros mayores consideran que los servicios son buenos a diferencia de los pasajeros menores que piensan lo contrario.\n",
    "- Mientras mas corta sea el viaje, los pasajeros quedan insatisfechos por los servicio mientras que los viajes largos son los \n",
    "que tienen mejor satisfaccion.\n",
    "\n",
    "#### Mejoras en los servicios\n",
    "- Servicio de WIFI\n",
    "- Calidad de la comida y bebidas en el avion\n",
    "- Reservacion en linea\n",
    "- Limpieza\n",
    "\n",
    "#### Buena calidad del servicio\n",
    "- Entretenimiento dentro del avion\n",
    "- Espacio de piernas\n"
   ]
  },
  {
   "cell_type": "markdown",
   "id": "715f317f",
   "metadata": {},
   "source": [
    "## Checkpoint Modulo 4"
   ]
  },
  {
   "cell_type": "markdown",
   "id": "6b9ab5b0",
   "metadata": {},
   "source": [
    "### Analisis de Nuestras Variables"
   ]
  },
  {
   "cell_type": "markdown",
   "id": "c1136e2e",
   "metadata": {},
   "source": [
    "#### Variables Numericas con BoxPlot"
   ]
  },
  {
   "cell_type": "code",
   "execution_count": 25,
   "id": "6d3bab2d",
   "metadata": {},
   "outputs": [
    {
     "name": "stdout",
     "output_type": "stream",
     "text": [
      "Promedio de Edades:\n",
      "39\n",
      "Minimo y maximo de Edades:\n",
      "7 85\n",
      "Desviacion Estandar:\n",
      "15.11935995037178\n"
     ]
    },
    {
     "data": {
      "image/png": "[encoded data removed]",
      "text/plain": [
       "<Figure size 432x288 with 1 Axes>"
      ]
     },
     "metadata": {},
     "output_type": "display_data"
    }
   ],
   "source": [
    "print(\"Promedio de Edades:\")\n",
    "print(int(airline_satisfaction['age'].mean()))\n",
    "print(\"Minimo y maximo de Edades:\")\n",
    "print(airline_satisfaction['age'].min(), airline_satisfaction['age'].max())\n",
    "print(\"Desviacion Estandar:\")\n",
    "print(airline_satisfaction['age'].std())\n",
    "\n",
    "ax = sns.boxplot(x = airline_satisfaction['age'])\n",
    "ax.set(title=\"Edades\");"
   ]
  },
  {
   "cell_type": "code",
   "execution_count": 26,
   "id": "363d431e",
   "metadata": {},
   "outputs": [
    {
     "name": "stdout",
     "output_type": "stream",
     "text": [
      "Promedio de Distancia de Vuelo:\n",
      "1190\n",
      "Minimo y maximo de Distancia de Vuelo:\n",
      "31 4983\n",
      "Desviacion Estandar:\n",
      "997.4524773267232\n"
     ]
    },
    {
     "data": {
      "image/png": "[encoded data removed]",
      "text/plain": [
       "<Figure size 432x288 with 1 Axes>"
      ]
     },
     "metadata": {},
     "output_type": "display_data"
    }
   ],
   "source": [
    "print(\"Promedio de Distancia de Vuelo:\")\n",
    "print(int(airline_satisfaction['flight_distance'].mean()))\n",
    "print(\"Minimo y maximo de Distancia de Vuelo:\")\n",
    "print(airline_satisfaction['flight_distance'].min(), airline_satisfaction['flight_distance'].max())\n",
    "print(\"Desviacion Estandar:\")\n",
    "print(airline_satisfaction['flight_distance'].std())\n",
    "\n",
    "ax = sns.boxplot(x = airline_satisfaction['flight_distance'])\n",
    "ax.set(title=\"Distancia de Vuelo\");"
   ]
  },
  {
   "cell_type": "code",
   "execution_count": 27,
   "id": "1a4dbeb3",
   "metadata": {},
   "outputs": [
    {
     "name": "stdout",
     "output_type": "stream",
     "text": [
      "Promedio de retraso:\n",
      "14\n",
      "Minimo y maximo de minutos de retraso:\n",
      "0 1592\n",
      "Desviacion Estandar:\n",
      "38.07112621501346\n"
     ]
    },
    {
     "data": {
      "image/png": "[encoded data removed]",
      "text/plain": [
       "<Figure size 432x288 with 1 Axes>"
      ]
     },
     "metadata": {},
     "output_type": "display_data"
    }
   ],
   "source": [
    "print(\"Promedio de retraso:\")\n",
    "print(int(airline_satisfaction['departure_delay_in_minutes'].mean()))\n",
    "\n",
    "print(\"Minimo y maximo de minutos de retraso:\")\n",
    "print(airline_satisfaction['departure_delay_in_minutes'].min(), airline_satisfaction['departure_delay_in_minutes'].max())\n",
    "\n",
    "print(\"Desviacion Estandar:\")\n",
    "print(airline_satisfaction['departure_delay_in_minutes'].std())\n",
    "\n",
    "ax = sns.boxplot(x = airline_satisfaction['departure_delay_in_minutes'])\n",
    "ax.set(title=\"Retraso en despegue en minutos\");"
   ]
  },
  {
   "cell_type": "code",
   "execution_count": 28,
   "id": "06756021",
   "metadata": {},
   "outputs": [],
   "source": [
    "iqr = airline_satisfaction['departure_delay_in_minutes'].quantile(0.75) - airline_satisfaction['departure_delay_in_minutes'].quantile(0.25)\n",
    "    \n",
    "filtro_inferior = airline_satisfaction['departure_delay_in_minutes'] > airline_satisfaction['departure_delay_in_minutes'].quantile(0.25) - (iqr * 1.5)\n",
    "\n",
    "filtro_superior = airline_satisfaction['departure_delay_in_minutes'] < airline_satisfaction['departure_delay_in_minutes'].quantile(0.75) + (iqr * 1.5)\n",
    "\n",
    "df_filtrado = airline_satisfaction[filtro_inferior & filtro_superior]"
   ]
  },
  {
   "cell_type": "code",
   "execution_count": 29,
   "id": "d3309ebb",
   "metadata": {},
   "outputs": [
    {
     "data": {
      "image/png": "[encoded data removed]",
      "text/plain": [
       "<Figure size 432x288 with 1 Axes>"
      ]
     },
     "metadata": {},
     "output_type": "display_data"
    }
   ],
   "source": [
    "ax = sns.boxplot(x = df_filtrado['departure_delay_in_minutes'])\n",
    "ax.set(title=\"Retraso en despegue en minutos\");"
   ]
  },
  {
   "cell_type": "code",
   "execution_count": 30,
   "id": "7bed8857",
   "metadata": {},
   "outputs": [
    {
     "name": "stdout",
     "output_type": "stream",
     "text": [
      "Promedio de retraso:\n",
      "15\n",
      "Minimo y maximo de minutos de retraso:\n",
      "0 1584\n",
      "Desviacion Estandar:\n",
      "38.407409672056424\n"
     ]
    },
    {
     "data": {
      "image/png": "[encoded data removed]",
      "text/plain": [
       "<Figure size 432x288 with 1 Axes>"
      ]
     },
     "metadata": {},
     "output_type": "display_data"
    }
   ],
   "source": [
    "print(\"Promedio de retraso:\")\n",
    "print(int(airline_satisfaction['arrival_delay_in_minutes'].mean()))\n",
    "\n",
    "print(\"Minimo y maximo de minutos de retraso:\")\n",
    "print(int(airline_satisfaction['arrival_delay_in_minutes'].min()), int(airline_satisfaction['arrival_delay_in_minutes'].max()))\n",
    "\n",
    "print(\"Desviacion Estandar:\")\n",
    "print(airline_satisfaction['arrival_delay_in_minutes'].std())\n",
    "\n",
    "ax = sns.boxplot(x = airline_satisfaction['arrival_delay_in_minutes'])\n",
    "ax.set(title=\"Retraso de aterrizaje en minutos\");"
   ]
  },
  {
   "cell_type": "code",
   "execution_count": 31,
   "id": "ede20392",
   "metadata": {},
   "outputs": [],
   "source": [
    "iqr = airline_satisfaction['arrival_delay_in_minutes'].quantile(0.75) - airline_satisfaction['arrival_delay_in_minutes'].quantile(0.25)\n",
    "    \n",
    "filtro_inferior = airline_satisfaction['arrival_delay_in_minutes'] > airline_satisfaction['arrival_delay_in_minutes'].quantile(0.25) - (iqr * 1.5)\n",
    "\n",
    "filtro_superior = airline_satisfaction['arrival_delay_in_minutes'] < airline_satisfaction['arrival_delay_in_minutes'].quantile(0.75) + (iqr * 1.5)\n",
    "\n",
    "df_filtrado2 = airline_satisfaction[filtro_inferior & filtro_superior]"
   ]
  },
  {
   "cell_type": "code",
   "execution_count": 32,
   "id": "aab8851c",
   "metadata": {},
   "outputs": [
    {
     "data": {
      "image/png": "[encoded data removed]",
      "text/plain": [
       "<Figure size 432x288 with 1 Axes>"
      ]
     },
     "metadata": {},
     "output_type": "display_data"
    }
   ],
   "source": [
    "ax = sns.boxplot(x = df_filtrado2['arrival_delay_in_minutes'])\n",
    "ax.set(title=\"Retraso de aterrizaje en minutos\");"
   ]
  },
  {
   "cell_type": "markdown",
   "id": "eaed5c9d",
   "metadata": {},
   "source": [
    "#### Variables Categoricas con Tablas de Contigencia"
   ]
  },
  {
   "cell_type": "code",
   "execution_count": 33,
   "id": "230a06fb",
   "metadata": {},
   "outputs": [
    {
     "data": {
      "text/html": [
       "<div>\n",
       "<style scoped>\n",
       "    .dataframe tbody tr th:only-of-type {\n",
       "        vertical-align: middle;\n",
       "    }\n",
       "\n",
       "    .dataframe tbody tr th {\n",
       "        vertical-align: top;\n",
       "    }\n",
       "\n",
       "    .dataframe thead th {\n",
       "        text-align: right;\n",
       "    }\n",
       "</style>\n",
       "<table border=\"1\" class=\"dataframe\">\n",
       "  <thead>\n",
       "    <tr style=\"text-align: right;\">\n",
       "      <th>inflight_wifi_service</th>\n",
       "      <th>0</th>\n",
       "      <th>1</th>\n",
       "      <th>2</th>\n",
       "      <th>3</th>\n",
       "      <th>4</th>\n",
       "      <th>5</th>\n",
       "    </tr>\n",
       "    <tr>\n",
       "      <th>Gender</th>\n",
       "      <th></th>\n",
       "      <th></th>\n",
       "      <th></th>\n",
       "      <th></th>\n",
       "      <th></th>\n",
       "      <th></th>\n",
       "    </tr>\n",
       "  </thead>\n",
       "  <tbody>\n",
       "    <tr>\n",
       "      <th>Female</th>\n",
       "      <td>2000</td>\n",
       "      <td>11353</td>\n",
       "      <td>16546</td>\n",
       "      <td>16326</td>\n",
       "      <td>12484</td>\n",
       "      <td>7190</td>\n",
       "    </tr>\n",
       "    <tr>\n",
       "      <th>Male</th>\n",
       "      <td>1916</td>\n",
       "      <td>10975</td>\n",
       "      <td>15774</td>\n",
       "      <td>15859</td>\n",
       "      <td>12291</td>\n",
       "      <td>7166</td>\n",
       "    </tr>\n",
       "  </tbody>\n",
       "</table>\n",
       "</div>"
      ],
      "text/plain": [
       "inflight_wifi_service     0      1      2      3      4     5\n",
       "Gender                                                       \n",
       "Female                 2000  11353  16546  16326  12484  7190\n",
       "Male                   1916  10975  15774  15859  12291  7166"
      ]
     },
     "execution_count": 33,
     "metadata": {},
     "output_type": "execute_result"
    }
   ],
   "source": [
    "crosstab = pd.crosstab(airline_satisfaction['Gender'], airline_satisfaction['inflight_wifi_service'])\n",
    "\n",
    "crosstab"
   ]
  },
  {
   "cell_type": "code",
   "execution_count": 34,
   "id": "31c5f8c6",
   "metadata": {},
   "outputs": [
    {
     "data": {
      "image/png": "[encoded data removed]",
      "text/plain": [
       "<Figure size 720x576 with 2 Axes>"
      ]
     },
     "metadata": {},
     "output_type": "display_data"
    }
   ],
   "source": [
    "fig, axes = plt.subplots(1, 2, figsize=(10, 8), sharex=True, sharey=True)\n",
    "\n",
    "sns.barplot(x = crosstab.columns, y = crosstab.iloc[0], ax=axes[0])\n",
    "sns.barplot(x = crosstab.columns, y = crosstab.iloc[1], ax=axes[1])\n",
    "\n",
    "axes[0].set(xlabel='', ylabel='', title='Mujeres')\n",
    "axes[1].set(xlabel='', ylabel='', title='Hombres')\n",
    "\n",
    "fig.suptitle('Calificacion del WIFI separado por Genero', fontsize=15);"
   ]
  },
  {
   "cell_type": "code",
   "execution_count": 35,
   "id": "311f37af",
   "metadata": {},
   "outputs": [
    {
     "data": {
      "text/html": [
       "<div>\n",
       "<style scoped>\n",
       "    .dataframe tbody tr th:only-of-type {\n",
       "        vertical-align: middle;\n",
       "    }\n",
       "\n",
       "    .dataframe tbody tr th {\n",
       "        vertical-align: top;\n",
       "    }\n",
       "\n",
       "    .dataframe thead th {\n",
       "        text-align: right;\n",
       "    }\n",
       "</style>\n",
       "<table border=\"1\" class=\"dataframe\">\n",
       "  <thead>\n",
       "    <tr style=\"text-align: right;\">\n",
       "      <th>leg_room_service</th>\n",
       "      <th>0</th>\n",
       "      <th>1</th>\n",
       "      <th>2</th>\n",
       "      <th>3</th>\n",
       "      <th>4</th>\n",
       "      <th>5</th>\n",
       "    </tr>\n",
       "    <tr>\n",
       "      <th>Gender</th>\n",
       "      <th></th>\n",
       "      <th></th>\n",
       "      <th></th>\n",
       "      <th></th>\n",
       "      <th></th>\n",
       "      <th></th>\n",
       "    </tr>\n",
       "  </thead>\n",
       "  <tbody>\n",
       "    <tr>\n",
       "      <th>Female</th>\n",
       "      <td>518</td>\n",
       "      <td>6691</td>\n",
       "      <td>12747</td>\n",
       "      <td>12839</td>\n",
       "      <td>18056</td>\n",
       "      <td>15048</td>\n",
       "    </tr>\n",
       "    <tr>\n",
       "      <th>Male</th>\n",
       "      <td>80</td>\n",
       "      <td>6204</td>\n",
       "      <td>11793</td>\n",
       "      <td>12217</td>\n",
       "      <td>17830</td>\n",
       "      <td>15857</td>\n",
       "    </tr>\n",
       "  </tbody>\n",
       "</table>\n",
       "</div>"
      ],
      "text/plain": [
       "leg_room_service    0     1      2      3      4      5\n",
       "Gender                                                 \n",
       "Female            518  6691  12747  12839  18056  15048\n",
       "Male               80  6204  11793  12217  17830  15857"
      ]
     },
     "execution_count": 35,
     "metadata": {},
     "output_type": "execute_result"
    }
   ],
   "source": [
    "crosstab2 = pd.crosstab(airline_satisfaction['Gender'], airline_satisfaction['leg_room_service'])\n",
    "\n",
    "crosstab2"
   ]
  },
  {
   "cell_type": "code",
   "execution_count": 36,
   "id": "51319bd4",
   "metadata": {},
   "outputs": [
    {
     "data": {
      "image/png": "[encoded data removed]",
      "text/plain": [
       "<Figure size 720x576 with 2 Axes>"
      ]
     },
     "metadata": {},
     "output_type": "display_data"
    }
   ],
   "source": [
    "fig, axes = plt.subplots(1, 2, figsize=(10, 8), sharex=True, sharey=True)\n",
    "\n",
    "sns.barplot(x = crosstab2.columns, y = crosstab2.iloc[0], ax=axes[0])\n",
    "sns.barplot(x = crosstab2.columns, y = crosstab2.iloc[1], ax=axes[1])\n",
    "\n",
    "axes[0].set(xlabel='', ylabel='', title='Mujeres')\n",
    "axes[1].set(xlabel='', ylabel='', title='Hombres')\n",
    "\n",
    "fig.suptitle('Calificacion del espacio para piernas separado por genero', fontsize=15);"
   ]
  },
  {
   "cell_type": "code",
   "execution_count": 37,
   "id": "41165144",
   "metadata": {},
   "outputs": [
    {
     "data": {
      "text/html": [
       "<div>\n",
       "<style scoped>\n",
       "    .dataframe tbody tr th:only-of-type {\n",
       "        vertical-align: middle;\n",
       "    }\n",
       "\n",
       "    .dataframe tbody tr th {\n",
       "        vertical-align: top;\n",
       "    }\n",
       "\n",
       "    .dataframe thead th {\n",
       "        text-align: right;\n",
       "    }\n",
       "</style>\n",
       "<table border=\"1\" class=\"dataframe\">\n",
       "  <thead>\n",
       "    <tr style=\"text-align: right;\">\n",
       "      <th>inflight_wifi_service</th>\n",
       "      <th>0</th>\n",
       "      <th>1</th>\n",
       "      <th>2</th>\n",
       "      <th>3</th>\n",
       "      <th>4</th>\n",
       "      <th>5</th>\n",
       "    </tr>\n",
       "    <tr>\n",
       "      <th>customer_class</th>\n",
       "      <th></th>\n",
       "      <th></th>\n",
       "      <th></th>\n",
       "      <th></th>\n",
       "      <th></th>\n",
       "      <th></th>\n",
       "    </tr>\n",
       "  </thead>\n",
       "  <tbody>\n",
       "    <tr>\n",
       "      <th>Business</th>\n",
       "      <td>2490</td>\n",
       "      <td>11299</td>\n",
       "      <td>13831</td>\n",
       "      <td>13618</td>\n",
       "      <td>11874</td>\n",
       "      <td>9048</td>\n",
       "    </tr>\n",
       "    <tr>\n",
       "      <th>Eco</th>\n",
       "      <td>1169</td>\n",
       "      <td>9572</td>\n",
       "      <td>16070</td>\n",
       "      <td>16131</td>\n",
       "      <td>11025</td>\n",
       "      <td>4342</td>\n",
       "    </tr>\n",
       "    <tr>\n",
       "      <th>Eco Plus</th>\n",
       "      <td>257</td>\n",
       "      <td>1457</td>\n",
       "      <td>2419</td>\n",
       "      <td>2436</td>\n",
       "      <td>1876</td>\n",
       "      <td>966</td>\n",
       "    </tr>\n",
       "  </tbody>\n",
       "</table>\n",
       "</div>"
      ],
      "text/plain": [
       "inflight_wifi_service     0      1      2      3      4     5\n",
       "customer_class                                               \n",
       "Business               2490  11299  13831  13618  11874  9048\n",
       "Eco                    1169   9572  16070  16131  11025  4342\n",
       "Eco Plus                257   1457   2419   2436   1876   966"
      ]
     },
     "execution_count": 37,
     "metadata": {},
     "output_type": "execute_result"
    }
   ],
   "source": [
    "crosstab3 = pd.crosstab(airline_satisfaction['customer_class'], airline_satisfaction['inflight_wifi_service'])\n",
    "\n",
    "crosstab3"
   ]
  },
  {
   "cell_type": "code",
   "execution_count": 38,
   "id": "41fbc6b4",
   "metadata": {},
   "outputs": [
    {
     "data": {
      "image/png": "[encoded data removed]",
      "text/plain": [
       "<Figure size 720x576 with 3 Axes>"
      ]
     },
     "metadata": {},
     "output_type": "display_data"
    }
   ],
   "source": [
    "fig, axes = plt.subplots(1, 3, figsize=(10, 8), sharex=True, sharey=True)\n",
    "\n",
    "sns.barplot(x = crosstab3.columns, y = crosstab3.iloc[0], ax=axes[0])\n",
    "sns.barplot(x = crosstab3.columns, y = crosstab3.iloc[1], ax=axes[1])\n",
    "sns.barplot(x = crosstab3.columns, y = crosstab3.iloc[2], ax=axes[2])\n",
    "\n",
    "axes[0].set(xlabel='', ylabel='', title='Business')\n",
    "axes[1].set(xlabel='', ylabel='', title='Eco')\n",
    "axes[2].set(xlabel='', ylabel='', title='Eco Plus')\n",
    "\n",
    "fig.suptitle('Calificacion del WIFI separado por Clases', fontsize=15);"
   ]
  },
  {
   "cell_type": "code",
   "execution_count": 39,
   "id": "82e2224d",
   "metadata": {},
   "outputs": [
    {
     "data": {
      "text/html": [
       "<div>\n",
       "<style scoped>\n",
       "    .dataframe tbody tr th:only-of-type {\n",
       "        vertical-align: middle;\n",
       "    }\n",
       "\n",
       "    .dataframe tbody tr th {\n",
       "        vertical-align: top;\n",
       "    }\n",
       "\n",
       "    .dataframe thead th {\n",
       "        text-align: right;\n",
       "    }\n",
       "</style>\n",
       "<table border=\"1\" class=\"dataframe\">\n",
       "  <thead>\n",
       "    <tr style=\"text-align: right;\">\n",
       "      <th>leg_room_service</th>\n",
       "      <th>0</th>\n",
       "      <th>1</th>\n",
       "      <th>2</th>\n",
       "      <th>3</th>\n",
       "      <th>4</th>\n",
       "      <th>5</th>\n",
       "    </tr>\n",
       "    <tr>\n",
       "      <th>customer_class</th>\n",
       "      <th></th>\n",
       "      <th></th>\n",
       "      <th></th>\n",
       "      <th></th>\n",
       "      <th></th>\n",
       "      <th></th>\n",
       "    </tr>\n",
       "  </thead>\n",
       "  <tbody>\n",
       "    <tr>\n",
       "      <th>Business</th>\n",
       "      <td>158</td>\n",
       "      <td>3562</td>\n",
       "      <td>9478</td>\n",
       "      <td>9777</td>\n",
       "      <td>21136</td>\n",
       "      <td>18049</td>\n",
       "    </tr>\n",
       "    <tr>\n",
       "      <th>Eco</th>\n",
       "      <td>386</td>\n",
       "      <td>7928</td>\n",
       "      <td>12986</td>\n",
       "      <td>13191</td>\n",
       "      <td>12751</td>\n",
       "      <td>11067</td>\n",
       "    </tr>\n",
       "    <tr>\n",
       "      <th>Eco Plus</th>\n",
       "      <td>54</td>\n",
       "      <td>1405</td>\n",
       "      <td>2076</td>\n",
       "      <td>2088</td>\n",
       "      <td>1999</td>\n",
       "      <td>1789</td>\n",
       "    </tr>\n",
       "  </tbody>\n",
       "</table>\n",
       "</div>"
      ],
      "text/plain": [
       "leg_room_service    0     1      2      3      4      5\n",
       "customer_class                                         \n",
       "Business          158  3562   9478   9777  21136  18049\n",
       "Eco               386  7928  12986  13191  12751  11067\n",
       "Eco Plus           54  1405   2076   2088   1999   1789"
      ]
     },
     "execution_count": 39,
     "metadata": {},
     "output_type": "execute_result"
    }
   ],
   "source": [
    "crosstab4 = pd.crosstab(airline_satisfaction['customer_class'], airline_satisfaction['leg_room_service'])\n",
    "\n",
    "crosstab4"
   ]
  },
  {
   "cell_type": "code",
   "execution_count": 40,
   "id": "50cff032",
   "metadata": {},
   "outputs": [
    {
     "data": {
      "image/png": "[encoded data removed]",
      "text/plain": [
       "<Figure size 720x576 with 3 Axes>"
      ]
     },
     "metadata": {},
     "output_type": "display_data"
    }
   ],
   "source": [
    "fig, axes = plt.subplots(1, 3, figsize=(10, 8), sharex=True, sharey=True)\n",
    "\n",
    "sns.barplot(x = crosstab4.columns, y = crosstab4.iloc[0], ax=axes[0])\n",
    "sns.barplot(x = crosstab4.columns, y = crosstab4.iloc[1], ax=axes[1])\n",
    "sns.barplot(x = crosstab4.columns, y = crosstab4.iloc[2], ax=axes[2])\n",
    "\n",
    "axes[0].set(xlabel='', ylabel='', title='Business')\n",
    "axes[1].set(xlabel='', ylabel='', title='Eco')\n",
    "axes[2].set(xlabel='', ylabel='', title='Eco Plus')\n",
    "\n",
    "fig.suptitle('Calificacion del espacio para piernas separado por Clases', fontsize=15);"
   ]
  },
  {
   "cell_type": "markdown",
   "id": "4d640181",
   "metadata": {},
   "source": [
    "## Modelo Regresion Logistica"
   ]
  },
  {
   "cell_type": "code",
   "execution_count": 41,
   "id": "228c6096",
   "metadata": {},
   "outputs": [
    {
     "data": {
      "text/plain": [
       "['Gender', 'customer_type', 'type_of_travel', 'customer_class']"
      ]
     },
     "execution_count": 41,
     "metadata": {},
     "output_type": "execute_result"
    }
   ],
   "source": [
    "# Convertimos nuestras variables categoricas en numericas\n",
    "cat_col"
   ]
  },
  {
   "cell_type": "code",
   "execution_count": 42,
   "id": "40397d9b",
   "metadata": {},
   "outputs": [],
   "source": [
    "# Definimos \"X\" y \"y\"\n",
    "X = airline_satisfaction.drop(\"satisfaction\", axis=1)\n",
    "y = airline_satisfaction[\"satisfaction\"]"
   ]
  },
  {
   "cell_type": "code",
   "execution_count": 43,
   "id": "6da3ef84",
   "metadata": {},
   "outputs": [
    {
     "data": {
      "text/plain": [
       "array([[ 0.,  1.,  1., ...,  5., 25., 18.],\n",
       "       [ 0.,  1.,  0., ...,  1.,  1.,  6.],\n",
       "       [ 1.,  0.,  1., ...,  5.,  0.,  0.],\n",
       "       ...,\n",
       "       [ 1.,  0.,  1., ...,  2.,  0.,  0.],\n",
       "       [ 0.,  1.,  1., ...,  4.,  0.,  0.],\n",
       "       [ 1.,  0.,  1., ...,  1.,  0.,  0.]])"
      ]
     },
     "execution_count": 43,
     "metadata": {},
     "output_type": "execute_result"
    }
   ],
   "source": [
    "from sklearn.preprocessing import OneHotEncoder\n",
    "from sklearn.compose import ColumnTransformer\n",
    "\n",
    "categorical_features = cat_col\n",
    "one_hot = OneHotEncoder()\n",
    "transformer = ColumnTransformer([(\"one_hot\", one_hot, categorical_features)], remainder=\"passthrough\")\n",
    "\n",
    "transformed_X = transformer.fit_transform(X)\n",
    "transformed_X"
   ]
  },
  {
   "cell_type": "code",
   "execution_count": 44,
   "id": "498b3f2a",
   "metadata": {},
   "outputs": [],
   "source": [
    "# Ahora la variable transformer_x es nuestra \"X\"\n",
    "# Definimos las variables de pruebas y entrenamiento\n",
    "from sklearn.model_selection import train_test_split\n",
    "X_train, X_test, y_train, y_test = train_test_split(transformed_X, y, test_size=0.3)"
   ]
  },
  {
   "cell_type": "code",
   "execution_count": 45,
   "id": "97bccb38",
   "metadata": {},
   "outputs": [
    {
     "data": {
      "text/plain": [
       "LogisticRegression(max_iter=10000)"
      ]
     },
     "execution_count": 45,
     "metadata": {},
     "output_type": "execute_result"
    }
   ],
   "source": [
    "from sklearn.linear_model import LogisticRegression\n",
    "\n",
    "logreg = LogisticRegression(max_iter=10000)\n",
    "logreg.fit(X_train, y_train)"
   ]
  },
  {
   "cell_type": "code",
   "execution_count": 46,
   "id": "84e887f2",
   "metadata": {},
   "outputs": [
    {
     "data": {
      "text/plain": [
       "array([0, 0, 0, ..., 1, 1, 1], dtype=int64)"
      ]
     },
     "execution_count": 46,
     "metadata": {},
     "output_type": "execute_result"
    }
   ],
   "source": [
    "y_pred = logreg.predict(X_test)\n",
    "\n",
    "y_pred"
   ]
  },
  {
   "cell_type": "code",
   "execution_count": 47,
   "id": "3408942f",
   "metadata": {},
   "outputs": [
    {
     "data": {
      "text/plain": [
       "0.876501385894672"
      ]
     },
     "execution_count": 47,
     "metadata": {},
     "output_type": "execute_result"
    }
   ],
   "source": [
    "logreg.score(X_test, y_test)"
   ]
  },
  {
   "cell_type": "markdown",
   "id": "4d02da27",
   "metadata": {},
   "source": [
    "## Evaluacion de nuestro modelo con matriz de confusion"
   ]
  },
  {
   "cell_type": "code",
   "execution_count": 48,
   "id": "d6c5588c",
   "metadata": {},
   "outputs": [
    {
     "data": {
      "image/png": "[encoded data removed]",
      "text/plain": [
       "<Figure size 432x432 with 1 Axes>"
      ]
     },
     "metadata": {},
     "output_type": "display_data"
    }
   ],
   "source": [
    "from sklearn import metrics\n",
    "\n",
    "cnf_matrix = metrics.confusion_matrix(y_test, y_pred)\n",
    "\n",
    "# Graficamos \n",
    "class_names=[0,1] \n",
    "fig, ax = plt.subplots(figsize=(6, 6))\n",
    "tick_marks = np.arange(len(class_names))\n",
    "plt.xticks(tick_marks, class_names)\n",
    "plt.yticks(tick_marks, class_names)\n",
    "\n",
    "#Heatmap\n",
    "sns.heatmap(pd.DataFrame(cnf_matrix), annot=True, cmap=\"Blues\" ,fmt='g', cbar=False, annot_kws={\"size\": 20})\n",
    "ax.xaxis.set_label_position(\"top\")\n",
    "plt.tight_layout()\n",
    "plt.ylabel('Realidad', fontsize=15, y=0.5)\n",
    "plt.xlabel('Estimado por el modelo', fontsize=15);"
   ]
  },
  {
   "cell_type": "markdown",
   "id": "3062601c",
   "metadata": {},
   "source": [
    "## Calculo de Presicion, Exactitud, Sensibilidad y Especificidad"
   ]
  },
  {
   "cell_type": "code",
   "execution_count": 49,
   "id": "e064a67a",
   "metadata": {},
   "outputs": [
    {
     "name": "stdout",
     "output_type": "stream",
     "text": [
      "Precision: 0.8803143349079511\n",
      "Exactitud: 0.876501385894672\n",
      "Sensibilidad: 0.9046776462048002\n",
      "Especificidad: 0.8398038172900786\n"
     ]
    }
   ],
   "source": [
    "tn, fp, fn, tp = cnf_matrix.ravel()\n",
    "\n",
    "print(\"Precision:\",metrics.precision_score(y_test, y_pred))\n",
    "print(\"Exactitud:\",metrics.accuracy_score(y_test, y_pred))\n",
    "print(\"Sensibilidad:\",metrics.recall_score(y_test, y_pred))\n",
    "print(\"Especificidad:\", tn / (tn + fp))"
   ]
  },
  {
   "cell_type": "markdown",
   "id": "08001ee4",
   "metadata": {},
   "source": [
    "## Checkpoint Modulo 5"
   ]
  },
  {
   "cell_type": "markdown",
   "id": "d81af94a",
   "metadata": {},
   "source": [
    "Modelos Aplicados:\n",
    "\n",
    "    - SVM\n",
    "    \n",
    "    - Random Forrest Classifier\n",
    "    \n",
    "    - Naive Bayes"
   ]
  },
  {
   "cell_type": "code",
   "execution_count": 66,
   "id": "155c4b05",
   "metadata": {},
   "outputs": [],
   "source": [
    "# evaluacion de modelos\n",
    "from sklearn.metrics import confusion_matrix\n",
    "\n",
    "def graficar(matrix):\n",
    "    # Graficamos \n",
    "    class_names=[0,1] \n",
    "    fig, ax = plt.subplots(figsize=(6, 6))\n",
    "    tick_marks = np.arange(len(class_names))\n",
    "    plt.xticks(tick_marks, class_names)\n",
    "    plt.yticks(tick_marks, class_names)\n",
    "\n",
    "    #Heatmap\n",
    "    sns.heatmap(pd.DataFrame(matrix), annot=True, cmap=\"Blues\" ,fmt='g', cbar=False, annot_kws={\"size\": 20})\n",
    "    ax.xaxis.set_label_position(\"top\")\n",
    "    plt.tight_layout()\n",
    "    plt.ylabel('Realidad', fontsize=15, y=0.5)\n",
    "    plt.xlabel('Estimado por el modelo', fontsize=15);\n",
    "\n",
    "def calcularAccuracy(TP, TN, FP, FN):\n",
    "    accuracy = (TP + TN) / (TP + TN + FP + FN)\n",
    "    accuracy = accuracy * 100\n",
    "    return accuracy\n",
    "def calcularSensibilidad(TP, TN, FP, FN):\n",
    "    sensibilidad = TP / (TP + FN)\n",
    "    sensibilidad = sensibilidad * 100\n",
    "    return sensibilidad\n",
    "def calcularEspecificidad(TP, TN, FP, FN):\n",
    "    especificidad = TN / (TN + FP)\n",
    "    especificidad = especificidad * 100\n",
    "    return especificidad\n",
    "\n",
    "def evaluar(y_test, y_pred):\n",
    "    resultado = confusion_matrix(y_test, y_pred)\n",
    "    # print(resultado)\n",
    "    (TN, FP, FN, TP) = resultado.ravel()\n",
    "    print(\"True positives: \"+str(TP))\n",
    "    print(\"True negatives: \"+str(TN))\n",
    "    print(\"False positives: \"+str(FP))\n",
    "    print(\"False negative: \"+str(FN))\n",
    "\n",
    "    acc = calcularAccuracy(TP, TN, FP, FN)\n",
    "    sen = calcularSensibilidad(TP, TN, FP, FN)\n",
    "    spec = calcularEspecificidad(TP, TN, FP, FN)\n",
    "    print(\"Precision:\"+str(acc)+\"%\")\n",
    "    print(\"Sensibilidad:\"+str(sen)+\"%\")\n",
    "    print(\"Especificidad:\"+str(spec)+\"%\")\n",
    "    graficar(resultado)"
   ]
  },
  {
   "cell_type": "code",
   "execution_count": 51,
   "id": "6bf28966",
   "metadata": {},
   "outputs": [
    {
     "data": {
      "text/plain": [
       "(array([[ 0.,  1.,  1., ...,  5., 25., 18.],\n",
       "        [ 0.,  1.,  0., ...,  1.,  1.,  6.],\n",
       "        [ 1.,  0.,  1., ...,  5.,  0.,  0.],\n",
       "        ...,\n",
       "        [ 1.,  0.,  1., ...,  2.,  0.,  0.],\n",
       "        [ 0.,  1.,  1., ...,  4.,  0.,  0.],\n",
       "        [ 1.,  0.,  1., ...,  1.,  0.,  0.]]),\n",
       " 0         1\n",
       " 1         1\n",
       " 2         0\n",
       " 3         1\n",
       " 4         0\n",
       "          ..\n",
       " 129875    1\n",
       " 129876    0\n",
       " 129877    1\n",
       " 129878    0\n",
       " 129879    1\n",
       " Name: satisfaction, Length: 129880, dtype: int64)"
      ]
     },
     "execution_count": 51,
     "metadata": {},
     "output_type": "execute_result"
    }
   ],
   "source": [
    "transformed_X, y"
   ]
  },
  {
   "cell_type": "code",
   "execution_count": 52,
   "id": "7358a30a",
   "metadata": {},
   "outputs": [],
   "source": [
    "from sklearn.model_selection import train_test_split\n",
    "\n",
    "X_train, X_test, y_train, y_test = train_test_split(transformed_X, y, test_size = 0.2)"
   ]
  },
  {
   "cell_type": "markdown",
   "id": "233432c2",
   "metadata": {},
   "source": [
    "### Random Forest Classifier"
   ]
  },
  {
   "cell_type": "code",
   "execution_count": 68,
   "id": "b0d0cbfa",
   "metadata": {},
   "outputs": [
    {
     "name": "stdout",
     "output_type": "stream",
     "text": [
      "time: 9.89103364944458\n"
     ]
    }
   ],
   "source": [
    "from sklearn.ensemble import RandomForestClassifier\n",
    "import time \n",
    "\n",
    "start = time.time()\n",
    "\n",
    "clf = RandomForestClassifier(n_estimators=100)\n",
    "clf.fit(X_train, y_train)\n",
    "y_preds_RF = clf.predict(X_test)\n",
    "\n",
    "end = time.time()\n",
    "print(\"time: \"+str(end-start))"
   ]
  },
  {
   "cell_type": "code",
   "execution_count": 67,
   "id": "b15eb8ba",
   "metadata": {},
   "outputs": [
    {
     "name": "stdout",
     "output_type": "stream",
     "text": [
      "True positives: 14398\n",
      "True negatives: 10652\n",
      "False positives: 659\n",
      "False negative: 267\n",
      "Precision:96.43517092700955%\n",
      "Sensibilidad:98.17933856120014%\n",
      "Especificidad:94.1738131022898%\n"
     ]
    },
    {
     "data": {
      "image/png": "[encoded data removed]",
      "text/plain": [
       "<Figure size 432x432 with 1 Axes>"
      ]
     },
     "metadata": {},
     "output_type": "display_data"
    }
   ],
   "source": [
    "evaluar(y_test, y_preds_RF)"
   ]
  },
  {
   "cell_type": "markdown",
   "id": "f0858757",
   "metadata": {},
   "source": [
    "### SVM"
   ]
  },
  {
   "cell_type": "code",
   "execution_count": 69,
   "id": "90a1f176",
   "metadata": {},
   "outputs": [
    {
     "name": "stdout",
     "output_type": "stream",
     "text": [
      "time: 2038.921809911728\n"
     ]
    }
   ],
   "source": [
    "from sklearn.svm import SVC\n",
    "import time\n",
    "\n",
    "start = time.time()\n",
    "SupportVectorMachine = SVC()\n",
    "SupportVectorMachine.fit(X_train, y_train) \n",
    "y_pred_svm = SupportVectorMachine.predict(X_test) \n",
    "\n",
    "end = time.time()\n",
    "print(\"time: \"+str(end-start))"
   ]
  },
  {
   "cell_type": "code",
   "execution_count": 70,
   "id": "f187f838",
   "metadata": {},
   "outputs": [
    {
     "name": "stdout",
     "output_type": "stream",
     "text": [
      "True positives: 12330\n",
      "True negatives: 5103\n",
      "False positives: 6208\n",
      "False negative: 2335\n",
      "Precision:67.11194949183862%\n",
      "Sensibilidad:84.07773610637572%\n",
      "Especificidad:45.11537441428698%\n"
     ]
    },
    {
     "data": {
      "image/png": "[encoded data removed]",
      "text/plain": [
       "<Figure size 432x432 with 1 Axes>"
      ]
     },
     "metadata": {},
     "output_type": "display_data"
    }
   ],
   "source": [
    "evaluar(y_test, y_pred_svm)"
   ]
  },
  {
   "cell_type": "markdown",
   "id": "e8e88705",
   "metadata": {},
   "source": [
    "### Naive Bayes"
   ]
  },
  {
   "cell_type": "code",
   "execution_count": 73,
   "id": "50e31424",
   "metadata": {},
   "outputs": [
    {
     "name": "stdout",
     "output_type": "stream",
     "text": [
      "time: 0.0709831714630127\n"
     ]
    }
   ],
   "source": [
    "from sklearn.naive_bayes import GaussianNB\n",
    "import time\n",
    "\n",
    "start = time.time()\n",
    "NaiveBayes = GaussianNB()\n",
    "NaiveBayes.fit(X_train, y_train) \n",
    "y_pred_nb = NaiveBayes.predict(X_test) \n",
    "\n",
    "end = time.time()\n",
    "\n",
    "print(\"time: \"+str(end-start))"
   ]
  },
  {
   "cell_type": "code",
   "execution_count": 74,
   "id": "35a71bd1",
   "metadata": {},
   "outputs": [
    {
     "name": "stdout",
     "output_type": "stream",
     "text": [
      "True positives: 12810\n",
      "True negatives: 9198\n",
      "False positives: 2113\n",
      "False negative: 1855\n",
      "Precision:84.7243609485679%\n",
      "Sensibilidad:87.3508353221957%\n",
      "Especificidad:81.31906993192467%\n"
     ]
    },
    {
     "data": {
      "image/png": "[encoded data removed]",
      "text/plain": [
       "<Figure size 432x432 with 1 Axes>"
      ]
     },
     "metadata": {},
     "output_type": "display_data"
    }
   ],
   "source": [
    "evaluar(y_test, y_pred_nb)"
   ]
  },
  {
   "cell_type": "code",
   "execution_count": null,
   "id": "21926d99",
   "metadata": {},
   "outputs": [],
   "source": []
  }
 ],
 "metadata": {
  "kernelspec": {
   "display_name": "Python 3 (ipykernel)",
   "language": "python",
   "name": "python3"
  },
  "language_info": {
   "codemirror_mode": {
    "name": "ipython",
    "version": 3
   },
   "file_extension": ".py",
   "mimetype": "text/x-python",
   "name": "python",
   "nbconvert_exporter": "python",
   "pygments_lexer": "ipython3",
   "version": "3.9.7"
  }
 },
 "nbformat": 4,
 "nbformat_minor": 5
}
